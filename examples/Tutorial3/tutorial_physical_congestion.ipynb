{
 "cells": [
  {
   "metadata": {},
   "cell_type": "markdown",
   "source": "# Practical Neighbourhood Connection to the Grid",
   "id": "9cb34bd5ff08017e"
  },
  {
   "metadata": {},
   "cell_type": "markdown",
   "source": [
    "#### Importing the needed packages\n",
    "The first step in every python notebook is to install the needed packages (e.g. [`pandas`](https://pandas.pydata.org/docs/user_guide/index.html) for data management) as well as functions and classes from external scripts."
   ],
   "id": "e058f6b0c45bf41e"
  },
  {
   "metadata": {},
   "cell_type": "code",
   "outputs": [],
   "execution_count": null,
   "source": [
    "from illuminator.engine import Simulation\n",
    "import functions_T3\n",
    "import pandas as pd\n",
    "import nest_asyncio\n",
    "nest_asyncio.apply()"
   ],
   "id": "7c551aaa16690a8c"
  },
  {
   "metadata": {},
   "cell_type": "markdown",
   "source": [
    "#### Setting\n",
    "A neighbourhood of 10 houses is connected to the grid (see the picture below). This connection to the grid has a capacity of 15 kW."
   ],
   "id": "48e3946290cd4336"
  },
  {
   "metadata": {},
   "cell_type": "markdown",
   "source": "![T3_basecase](Graphics_T3/neighbourhood_T3_base_case.png)",
   "id": "4c5edf9ce099332a"
  },
  {
   "metadata": {},
   "cell_type": "markdown",
   "source": [
    "#### Task 1: Load on Connection in case of Conventional Energy Supply\n",
    "\n",
    "In this task there is no local production of electricity in the neighbourhood. Therefore,  neighbourhood's demand needs to be completely fulfilled by electricity from the grid. Run the code below and observe the load at the connection for the two selected days (2012-02-01 and 2012-07-06). "
   ],
   "id": "5c7e29a6c9112e06"
  },
  {
   "metadata": {},
   "cell_type": "code",
   "outputs": [],
   "execution_count": null,
   "source": [
    "# Scenario Data \n",
    "load_df = pd.read_csv('../Scenarios/load_data.txt', delimiter=',', header = 0,skiprows=1) # Load Profile\n",
    "load_df['time'] = pd.to_datetime(load_df['time'])\n",
    "load_df.set_index('time', inplace=True)\n",
    "\n",
    "day_summer = '2012-07-06'\n",
    "day_winter = '2012-02-01'\n",
    "\n",
    "number_of_houses = 10 # size of the neighbourhood\n",
    "connection_cap = 15 # capacity of the connection\n",
    "tolerance_limit = 0.67 # a load on the connection between 67% and 90% is tolerable but causes a warning\n",
    "critical_limit = 0.9 # a load on the connection over 90% of the connection capacity is critical\n",
    "\n",
    "# Plot the Load on the connection\n",
    "functions_T3.plot_load_on_connection(load_df, day_summer, number_of_houses, tolerance_limit, critical_limit, connection_cap)\n",
    "functions_T3.plot_load_on_connection(load_df, day_winter, number_of_houses, tolerance_limit, critical_limit, connection_cap)"
   ],
   "id": "6f373112d33be052"
  },
  {
   "metadata": {},
   "cell_type": "markdown",
   "source": [
    "#### Task 2: Local Renewable Generation and Storage Solutions\n",
    "\n",
    "To be more sustainable the neighbourhood decides to install solar panels on the roofs and a small-scale wind turbine. Additionally, the neighbourhood utilizes a communal battery to shift the consumption of the renewable energy according to the demand.\n",
    "\n",
    "![T3_REScase](Graphics_T3/neighbourhood_T3_RES_case.png)\n"
   ],
   "id": "7b5c08458ff4c75"
  },
  {
   "metadata": {},
   "cell_type": "markdown",
   "source": [
    "##### 2a) Integrating local Renewable Generation\n",
    "\n",
    "Run the simulation below for the two chosen days. What do you observe and how does it compare to the case with conventional energy supply (task 1)? How does the installation of local renewables in the neighbourhood affect the load at the connection to the grid? Explain your observations."
   ],
   "id": "37d1d5664d76c62"
  },
  {
   "metadata": {},
   "cell_type": "code",
   "outputs": [],
   "execution_count": null,
   "source": [
    "Components_RES_case = pd.Series(['Wind', 'PV', 'Load', 'Grid_Connection'])\n",
    "\n",
    "#Input Data Simulation\n",
    "number_houses = 10    #number of houses in the neighbourhood\n",
    "\n",
    "pv_inputs = {'Module_area': 1.26, 'installed_capacity': 20000, 'Power_output_at_STC': 250} # the unit for power of the pv inputs is W\n",
    "\n",
    "wind_inputs = {'p_rated': 10 , 'cp':0.40} # the unit for power of the wind inputs is kW\n",
    "\n",
    "grid_inputs = {'Connection_Capacity': 15, 'Tolerance Limit': 0.67, 'Critical Limit': 0.9}"
   ],
   "id": "2b642a74970f3cce"
  },
  {
   "metadata": {},
   "cell_type": "markdown",
   "source": "An overload at the connection to the grid can lead to damage of components, infrastructure and connected devices. Additionally, the reliability of the grid decreases if the load at the connection is frequently exceeding the capacity and blackouts can occur. Are overloads a problem in the case at hand? And what could be options to avoid overloads?",
   "id": "26e900cb7e93fbbd"
  },
  {
   "metadata": {},
   "cell_type": "markdown",
   "source": [
    "##### 2b) Local Renewables & Local Battery Storage\n",
    "To utilize the local renewable generation more efficiently the neighbourhood decides to invest in a local community battery storage. Run the code below to simulate the new situation for the two chosen days."
   ],
   "id": "8bfb0be13aae2eca"
  },
  {
   "metadata": {},
   "cell_type": "code",
   "outputs": [],
   "execution_count": null,
   "source": [
    "number_houses = 10    #number of houses in the neighbourhood\n",
    "\n",
    "pv_inputs = {'Module_area': 1.26, 'installed_capacity': 20000, 'Power_output_at_STC': 250} # the unit for power of the pv inputs is W\n",
    "\n",
    "wind_inputs = {'p_rated': 10, 'cp':0.40} # the unit for power of the wind inputs is kW\n",
    "\n",
    "\n",
    "battery_inputs = {'max_p': 40, 'min_p': -40, 'max_energy': 40, 'initial_soc': 0, 'charge_efficiency': 0.9, 'discharge_efficiency': 0.9, 'soc_min': 10}\n",
    "\n",
    "grid_inputs = {'Connection_Capacity': 15, 'Tolerance Limit': 0.67, 'Critical Limit': 0.9}"
   ],
   "id": "35b734347f9e1350"
  },
  {
   "metadata": {},
   "cell_type": "markdown",
   "source": [
    "##### 2c) Bonus\n",
    "Why do you think we included a summer and a winter day in each simulation step?"
   ],
   "id": "8832a30d0d72a77e"
  },
  {
   "metadata": {},
   "cell_type": "markdown",
   "source": [
    "#### Task 3: Electrification of Assets\n",
    "\n",
    "As part of the Energy Transition the neighbourhood has decided to disconnect from the gas network and install Air-Source Heat Pumps for each house for space heating and hot water. Furthermore, the households have switched to electric vehicles which they frequently charge at home. This has implications for the load on the connection of the neighbourhood to the grid. \n",
    "\n",
    "![T3_Elec_case](Graphics_T3/neighbourhood_T3_RES_Bat_Elec_case.png)\n",
    "\n",
    "a) Examine the effect of electrifying assets by simulating the new situation with the code below. Compare this new situation to the previous cases. Make sure to simulate at least the given summer day and winter day for the case of electrified assets.\n",
    "\n",
    "b) What advice would you give based on your observations to the residents that want to have a reliable electricity and heat supply while being sustainable."
   ],
   "id": "5359b0cf38fe4bcb"
  },
  {
   "metadata": {},
   "cell_type": "code",
   "outputs": [],
   "execution_count": null,
   "source": "",
   "id": "57ce47b2dd986952"
  },
  {
   "metadata": {},
   "cell_type": "markdown",
   "source": [
    "### Task 4: Control Mechanism for Electrified Assets\n",
    "\n",
    "The electrified assets namely the heat pump and the EV are assumed to be flexible loads in this exercise. This entails that the consumption does not necessarily need to happen at a certain point in time but rather within a time frame. To avoid overloading the connection to the grid each house implements a controller for their electrified assets.\n",
    "\n",
    "a) Run the code below to simulate the new simulation for the summer day and the winter day. Compare the results with task 3. Feel free to also simulate other days. What impact does the control mechanism have?"
   ],
   "id": "2f417d1cd117d5df"
  },
  {
   "metadata": {},
   "cell_type": "code",
   "outputs": [],
   "execution_count": null,
   "source": [
    "%%capture\n",
    "CONFIG_FILE = 'Tutorial_physical_congestion_RES_bat_elec_assets.yaml'\n",
    "simulation_RES_Bat = Simulation(CONFIG_FILE)\n",
    "simulation_RES_Bat.set_model_param(model_name='CSVload', parameter='file_path', value='data/load_data.txt')\n",
    "simulation_RES_Bat.set_model_param(model_name='CSV_pv', parameter='file_path',\n",
    "                                   value='data/pv_data_Rotterdam_NL-15min.txt')\n",
    "simulation_RES_Bat.set_model_param(model_name='CSV_wind', parameter='file_path', value='data/winddata_NL.txt')\n",
    "\n",
    "new_settings = {'Wind1': {'p_rated': 0.3},\n",
    "                'Load1': {'houses': 5},\n",
    "                'PV1': {'cap': 500},\n",
    "                'Battery1': {'max_p': 0.8, 'min_p': -0.8, 'soc_min': 10, 'soc_max': 90},\n",
    "                'Grid1':{'connection_capacity' : 15, 'tolerance Limit': 0.67, 'critical Limit': 0.9},\n",
    "                }\n",
    "\n",
    "simulation_RES_Bat.edit_models(new_settings)\n",
    "\n",
    "simulation_RES_Bat.set_scenario_param('start_time', '2012-06-01 00:00:00')\n",
    "simulation_RES_Bat.set_scenario_param('end_time', '2012-06-01 23:45:00')\n",
    "\n",
    "# run the simulation\n",
    "simulation_RES_Bat.run()"
   ],
   "id": "12c99685a9ef80a0"
  },
  {
   "metadata": {},
   "cell_type": "markdown",
   "source": "b) How do you suspect the control mechanism works?",
   "id": "302e4f618eb1bf1"
  }
 ],
 "metadata": {
  "kernelspec": {
   "display_name": "Python 3",
   "language": "python",
   "name": "python3"
  },
  "language_info": {
   "codemirror_mode": {
    "name": "ipython",
    "version": 2
   },
   "file_extension": ".py",
   "mimetype": "text/x-python",
   "name": "python",
   "nbconvert_exporter": "python",
   "pygments_lexer": "ipython2",
   "version": "2.7.6"
  }
 },
 "nbformat": 4,
 "nbformat_minor": 5
}
